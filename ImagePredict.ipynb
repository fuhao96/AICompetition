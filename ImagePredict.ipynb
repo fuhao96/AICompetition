{
 "cells": [
  {
   "cell_type": "code",
   "execution_count": 1,
   "id": "a8a662a4",
   "metadata": {},
   "outputs": [
    {
     "name": "stderr",
     "output_type": "stream",
     "text": [
      "\n",
      "0: 480x640 (no detections), 12.2ms\n",
      "Speed: 0.0ms preprocess, 12.2ms inference, 0.0ms postprocess per image at shape (1, 3, 640, 640)\n"
     ]
    },
    {
     "data": {
      "text/plain": [
       "-1"
      ]
     },
     "execution_count": 1,
     "metadata": {},
     "output_type": "execute_result"
    }
   ],
   "source": [
    "import cv2\n",
    "import datetime\n",
    "import os\n",
    "from ultralytics import YOLO\n",
    "\n",
    "frame = cv2.imread('1.jpg')\n",
    "model = YOLO(\"bestPin.pt\")\n",
    "cv2.namedWindow(\"result\",0);\n",
    "res = model.predict(frame,conf = 0.5)\n",
    "res_plotted = res[0].plot()\n",
    "cv2.resizeWindow(\"result\", 800, 600);\n",
    "cv2.imshow(\"result\", res_plotted)\n",
    "cv2.waitKey(1)"
   ]
  },
  {
   "cell_type": "code",
   "execution_count": null,
   "id": "3ed3b680",
   "metadata": {},
   "outputs": [],
   "source": [
    "import cv2\n",
    "import os\n",
    "import csv\n",
    "from ultralytics import YOLO\n",
    "\n",
    "# 设置模型和权重文件路径\n",
    "model_path = \"path_to_model_weights\"\n",
    "config_path = \"path_to_model_config\"\n",
    "\n",
    "# 加载YOLOv8模型\n",
    "model = YOLO(model_path, config_path)\n",
    "\n",
    "# 设置图片文件夹路径和CSV文件夹路径\n",
    "image_folder = \"path_to_image_folder\"\n",
    "csv_folder = \"path_to_csv_folder\"\n",
    "\n",
    "# 初始化计数器\n",
    "total_images = 0\n",
    "correct_predictions = 0\n",
    "\n",
    "# 遍历图片文件夹中的图片\n",
    "for image_file in os.listdir(image_folder):\n",
    "    # 读取图像\n",
    "    image_path = os.path.join(image_folder, image_file)\n",
    "    image = cv2.imread(image_path)\n",
    "\n",
    "    # 获取CSV文件路径\n",
    "    csv_file = os.path.join(csv_folder, os.path.splitext(image_file)[0] + \".csv\")\n",
    "\n",
    "    # 检查CSV文件是否存在\n",
    "    if not os.path.isfile(csv_file):\n",
    "        continue\n",
    "\n",
    "    # 从CSV文件中读取标签信息\n",
    "    with open(csv_file, 'r') as file:\n",
    "        csv_reader = csv.reader(file)\n",
    "        for row in csv_reader:\n",
    "            class_label = row[0]  # 假设类别信息保存在第一列\n",
    "\n",
    "    # 进行预测\n",
    "    predictions = model.predict(image, conf=0.5)\n",
    "\n",
    "    # 获取预测结果的类别\n",
    "    predicted_class = predictions.pred[0].get_field('labels').tolist()\n",
    "\n",
    "    # 比较预测结果和实际结果\n",
    "    if predicted_class == class_label:\n",
    "        correct_predictions += 1\n",
    "\n",
    "    total_images += 1\n",
    "\n",
    "# 计算准确率\n",
    "accuracy = correct_predictions / total_images\n",
    "\n",
    "print(\"准确率：\", accuracy)\n"
   ]
  }
 ],
 "metadata": {
  "kernelspec": {
   "display_name": "Python 3 (ipykernel)",
   "language": "python",
   "name": "python3"
  },
  "language_info": {
   "codemirror_mode": {
    "name": "ipython",
    "version": 3
   },
   "file_extension": ".py",
   "mimetype": "text/x-python",
   "name": "python",
   "nbconvert_exporter": "python",
   "pygments_lexer": "ipython3",
   "version": "3.7.16"
  }
 },
 "nbformat": 4,
 "nbformat_minor": 5
}
